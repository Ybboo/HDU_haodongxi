{
 "cells": [
  {
   "cell_type": "code",
   "execution_count": 3,
   "id": "61da14f1",
   "metadata": {},
   "outputs": [],
   "source": [
    "import tensorflow as tf\n",
    "from tensorflow import keras\n",
    "import numpy as np\n",
    "import os\n",
    "import pandas as pd\n",
    "import matplotlib.pyplot as plt"
   ]
  },
  {
   "cell_type": "code",
   "execution_count": 4,
   "id": "6ac4de5e",
   "metadata": {},
   "outputs": [
    {
     "name": "stdout",
     "output_type": "stream",
     "text": [
      "Downloading data from https://storage.googleapis.com/tensorflow/tf-keras-datasets/train-labels-idx1-ubyte.gz\n",
      "29515/29515 [==============================] - 0s 3us/step\n",
      "Downloading data from https://storage.googleapis.com/tensorflow/tf-keras-datasets/train-images-idx3-ubyte.gz\n",
      "26421880/26421880 [==============================] - 2s 0us/step\n",
      "Downloading data from https://storage.googleapis.com/tensorflow/tf-keras-datasets/t10k-labels-idx1-ubyte.gz\n",
      "5148/5148 [==============================] - 0s 0s/step\n",
      "Downloading data from https://storage.googleapis.com/tensorflow/tf-keras-datasets/t10k-images-idx3-ubyte.gz\n",
      "4422102/4422102 [==============================] - 1s 0us/step\n"
     ]
    }
   ],
   "source": [
    "# 加载FASHION_MNIST数据集\n",
    "mnist = tf.keras.datasets.fashion_mnist\n",
    "(x_train, y_train), (x_test, y_test) = mnist.load_data()"
   ]
  },
  {
   "cell_type": "code",
   "execution_count": 5,
   "id": "f06962c6",
   "metadata": {},
   "outputs": [
    {
     "name": "stdout",
     "output_type": "stream",
     "text": [
      "训练集大小: (54000, 28, 28) (54000,)\n",
      "验证集大小: (6000, 28, 28) (6000,)\n"
     ]
    }
   ],
   "source": [
    "# 划分验证集\n",
    "from sklearn.model_selection import train_test_split\n",
    "x_train_scaled, x_valid_scaled, y_train, y_valid = train_test_split(x_train, y_train, test_size=0.1, random_state=42)\n",
    "print(\"训练集大小:\", x_train_scaled.shape, y_train.shape)\n",
    "print(\"验证集大小:\", x_valid_scaled.shape, y_valid.shape)"
   ]
  },
  {
   "cell_type": "code",
   "execution_count": 6,
   "id": "5e0d94d9",
   "metadata": {},
   "outputs": [],
   "source": [
    "#数据标准化\n",
    "from sklearn.preprocessing import StandardScaler\n",
    "scaler=StandardScaler()\n",
    "x_train_scaled = scaler.fit_transform(x_train_scaled.astype(np.float32).reshape(-1,1)).reshape(-1,28,28,1)\n",
    "x_valid_scaled = scaler.transform(x_valid_scaled.astype(np.float32).reshape(-1,1)).reshape(-1,28,28,1)\n",
    "x_test_scaled = scaler.transform(x_test.astype(np.float32).reshape(-1,1)).reshape(-1,28,28,1)"
   ]
  },
  {
   "cell_type": "code",
   "execution_count": 7,
   "id": "f204ba6f",
   "metadata": {},
   "outputs": [],
   "source": [
    "#构建CNN模型\n",
    "model = tf.keras.models.Sequential([\n",
    "    #卷积层，6个滤波器，尺寸为5×5，\n",
    "    keras.layers.Conv2D(filters = 6,kernel_size=5,activation='sigmoid',input_shape=(28,28,1),padding='same'),\n",
    "    #最大池化层，窗口大小2×2，移动步长为2\n",
    "    keras.layers.MaxPool2D(pool_size = 2,strides = 2),\n",
    "    keras.layers.Conv2D(filters = 16,kernel_size=5,activation='sigmoid',input_shape=(28,28,1)),\n",
    "    keras.layers.MaxPool2D(pool_size = 2,strides = 2),\n",
    "    #扁平化层，将之前卷积层和池化层输出的多维特征图展开成一个一维向量，为全连接层的输入做准备\n",
    "    keras.layers.Flatten(),\n",
    "    #这是一个全连接层，包含120个神经元。\n",
    "    keras.layers.Dense(120,activation = 'sigmoid'),\n",
    "    #这是一个全连接层，包含84个神经元。\n",
    "    keras.layers.Dense(84,activation = 'sigmoid'),\n",
    "    #这是输出层，包含10个神经元\n",
    "    keras.layers.Dense(10,activation = 'sigmoid'),\n",
    "])"
   ]
  },
  {
   "cell_type": "code",
   "execution_count": 8,
   "id": "d87234b5",
   "metadata": {},
   "outputs": [],
   "source": [
    "#设置回调函数\n",
    "logdir = 'D:/cnn3'#定义了一个文件路径 logdir，用于存储日志和模型文件\n",
    "if not os.path.exists(logdir):\n",
    "    os.mkdir(logdir)\n",
    "output_model_file=os.path.join(logdir,\"output_model.h5\")#创建一个指向输出模型文件的路径\n",
    "callbacks=[#创建列表，包含3个不同的回调函数\n",
    "    keras.callbacks.ModelCheckpoint(output_model_file, save_best_only=True),#在每个训练周期结束时保存模型\n",
    "    keras.callbacks.EarlyStopping(patience = 5,min_delta = 1e-3),\n",
    "    #监视模型的指标，如果经过 patience 个训练周期（这里是5个周期）模型性能没有提升超过 min_delta （这里是0.001），则停止训练。这可以避免过拟合，节省训练时间。\n",
    "    keras.callbacks.TensorBoard(log_dir=logdir)\n",
    "    #将训练过程中的日志信息保存到指定的 logdir 路径中\n",
    "]"
   ]
  },
  {
   "cell_type": "code",
   "execution_count": 9,
   "id": "04fc9b87",
   "metadata": {},
   "outputs": [],
   "source": [
    "#编译模型，使用交叉熵作为损失函数，随机梯度下降（SGD）作为优化器，准确率作为评估指标。\n",
    "model.compile(loss='sparse_categorical_crossentropy',optimizer=keras.optimizers.SGD(learning_rate=0.9),metrics=['accuracy'])\n",
    "#指定了优化器，用于更新模型的权重以减小损失函数的值。在这里，使用了随机梯度下降（SGD）优化器，学习率设置为0.9。"
   ]
  },
  {
   "cell_type": "code",
   "execution_count": 10,
   "id": "93435620",
   "metadata": {},
   "outputs": [
    {
     "name": "stdout",
     "output_type": "stream",
     "text": [
      "Epoch 1/10\n",
      "211/211 [==============================] - 25s 110ms/step - loss: 1.7318 - accuracy: 0.3366 - val_loss: 0.9802 - val_accuracy: 0.6270\n",
      "Epoch 2/10\n"
     ]
    },
    {
     "name": "stderr",
     "output_type": "stream",
     "text": [
      "C:\\Users\\HUAWEI\\AppData\\Roaming\\Python\\Python310\\site-packages\\keras\\src\\engine\\training.py:3079: UserWarning: You are saving your model as an HDF5 file via `model.save()`. This file format is considered legacy. We recommend using instead the native Keras format, e.g. `model.save('my_model.keras')`.\n",
      "  saving_api.save_model(\n"
     ]
    },
    {
     "name": "stdout",
     "output_type": "stream",
     "text": [
      "211/211 [==============================] - 23s 107ms/step - loss: 0.7902 - accuracy: 0.6934 - val_loss: 0.7877 - val_accuracy: 0.7058\n",
      "Epoch 3/10\n",
      "211/211 [==============================] - 23s 108ms/step - loss: 0.6379 - accuracy: 0.7486 - val_loss: 0.5702 - val_accuracy: 0.7780\n",
      "Epoch 4/10\n",
      "211/211 [==============================] - 23s 108ms/step - loss: 0.5554 - accuracy: 0.7830 - val_loss: 0.5275 - val_accuracy: 0.7990\n",
      "Epoch 5/10\n",
      "211/211 [==============================] - 23s 108ms/step - loss: 0.4986 - accuracy: 0.8091 - val_loss: 0.5109 - val_accuracy: 0.8025\n",
      "Epoch 6/10\n",
      "211/211 [==============================] - 23s 107ms/step - loss: 0.4584 - accuracy: 0.8306 - val_loss: 0.4471 - val_accuracy: 0.8387\n",
      "Epoch 7/10\n",
      "211/211 [==============================] - 23s 107ms/step - loss: 0.4217 - accuracy: 0.8455 - val_loss: 0.4058 - val_accuracy: 0.8483\n",
      "Epoch 8/10\n",
      "211/211 [==============================] - 23s 107ms/step - loss: 0.4030 - accuracy: 0.8524 - val_loss: 0.4067 - val_accuracy: 0.8480\n",
      "Epoch 9/10\n",
      "211/211 [==============================] - 23s 107ms/step - loss: 0.3822 - accuracy: 0.8598 - val_loss: 0.3793 - val_accuracy: 0.8618\n",
      "Epoch 10/10\n",
      "211/211 [==============================] - 23s 108ms/step - loss: 0.3641 - accuracy: 0.8665 - val_loss: 0.3665 - val_accuracy: 0.8657\n"
     ]
    }
   ],
   "source": [
    "#训练模型，使用训练数据训练模型，进行10个epochs的训练，使用256批量大小。\n",
    "history=model.fit(x_train_scaled,y_train,epochs=10,batch_size=256,callbacks=callbacks,validation_data=(x_valid_scaled,y_valid))"
   ]
  },
  {
   "cell_type": "code",
   "execution_count": 11,
   "id": "5b9e9211",
   "metadata": {},
   "outputs": [
    {
     "data": {
      "image/png": "[encoded data removed]",
      "text/plain": [
       "<Figure size 800x300 with 1 Axes>"
      ]
     },
     "metadata": {},
     "output_type": "display_data"
    }
   ],
   "source": [
    "#绘制学习曲线，这个函数用于绘制训练过程中的损失和准确率的变化情况，以便进行可视化分析\n",
    "def plot_learning_curves(history):\n",
    "    pd.DataFrame(history.history).plot(figsize=(8,3))\n",
    "    plt.grid(True)\n",
    "    plt.show()\n",
    "plot_learning_curves(history)"
   ]
  },
  {
   "cell_type": "code",
   "execution_count": null,
   "id": "1d79f318",
   "metadata": {},
   "outputs": [],
   "source": []
  }
 ],
 "metadata": {
  "kernelspec": {
   "display_name": "Python 3 (ipykernel)",
   "language": "python",
   "name": "python3"
  },
  "language_info": {
   "codemirror_mode": {
    "name": "ipython",
    "version": 3
   },
   "file_extension": ".py",
   "mimetype": "text/x-python",
   "name": "python",
   "nbconvert_exporter": "python",
   "pygments_lexer": "ipython3",
   "version": "3.10.9"
  }
 },
 "nbformat": 4,
 "nbformat_minor": 5
}
