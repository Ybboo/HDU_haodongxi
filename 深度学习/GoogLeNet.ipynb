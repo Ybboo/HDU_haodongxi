{
 "cells": [
  {
   "cell_type": "code",
   "execution_count": 2,
   "id": "7a6e9aa1",
   "metadata": {},
   "outputs": [],
   "source": [
    "import tensorflow as tf\n",
    "from tensorflow.keras.layers import Layer,Conv2D,MaxPool2D,Dropout,Activation,Flatten,Dense,AvgPool2D,concatenate,Softmax,Input\n",
    "from tensorflow.keras.preprocessing import image\n",
    "from tensorflow.keras.applications.inception_v3 import preprocess_input, decode_predictions\n",
    "import numpy as np\n",
    "\n",
    "import tensorflow as tf\n",
    "tf.config.run_functions_eagerly(True)"
   ]
  },
  {
   "cell_type": "code",
   "execution_count": 2,
   "id": "83f38316",
   "metadata": {},
   "outputs": [],
   "source": [
    "(train_images, train_labels), (test_images, test_labels) = tf.keras.datasets.fashion_mnist.load_data()"
   ]
  },
  {
   "cell_type": "code",
   "execution_count": 3,
   "id": "8501aa41",
   "metadata": {},
   "outputs": [],
   "source": [
    "train_images = train_images.reshape((60000, 28, 28, 1)).astype('float32') / 255\n",
    "test_images = test_images.reshape((10000, 28, 28, 1)).astype('float32') / 255"
   ]
  },
  {
   "cell_type": "code",
   "execution_count": 3,
   "id": "ce74a1e7",
   "metadata": {
    "scrolled": false
   },
   "outputs": [
    {
     "name": "stdout",
     "output_type": "stream",
     "text": [
      "Model: \"GoogLeNet\"\n",
      "__________________________________________________________________________________________________\n",
      " Layer (type)                Output Shape                 Param #   Connected to                  \n",
      "==================================================================================================\n",
      " Inputs (InputLayer)         [(None, 224, 224, 3)]        0         []                            \n",
      "                                                                                                  \n",
      " convolution-1 (Conv2D)      (None, 112, 112, 64)         9472      ['Inputs[0][0]']              \n",
      "                                                                                                  \n",
      " max-pool-1 (MaxPooling2D)   (None, 56, 56, 64)           0         ['convolution-1[0][0]']       \n",
      "                                                                                                  \n",
      " convolution-2 (Conv2D)      (None, 56, 56, 192)          110784    ['max-pool-1[0][0]']          \n",
      "                                                                                                  \n",
      " max-pool-2 (MaxPooling2D)   (None, 28, 28, 192)          0         ['convolution-2[0][0]']       \n",
      "                                                                                                  \n",
      " inception-3a (Inception)    (None, 28, 28, 256)          163696    ['max-pool-2[0][0]']          \n",
      "                                                                                                  \n",
      " inception-3b (Inception)    (None, 28, 28, 480)          388736    ['inception-3a[0][0]']        \n",
      "                                                                                                  \n",
      " max-pool-3 (MaxPooling2D)   (None, 14, 14, 480)          0         ['inception-3b[0][0]']        \n",
      "                                                                                                  \n",
      " inception-4a (Inception)    (None, 14, 14, 512)          376176    ['max-pool-3[0][0]']          \n",
      "                                                                                                  \n",
      " inception-4b (Inception)    (None, 14, 14, 512)          449160    ['inception-4a[0][0]']        \n",
      "                                                                                                  \n",
      " inception-4c (Inception)    (None, 14, 14, 512)          510104    ['inception-4b[0][0]']        \n",
      "                                                                                                  \n",
      " inception-4d (Inception)    (None, 14, 14, 528)          605376    ['inception-4c[0][0]']        \n",
      "                                                                                                  \n",
      " inception-4e (Inception)    (None, 14, 14, 832)          868352    ['inception-4d[0][0]']        \n",
      "                                                                                                  \n",
      " max-pool-4 (MaxPooling2D)   (None, 7, 7, 832)            0         ['inception-4e[0][0]']        \n",
      "                                                                                                  \n",
      " inception-5a (Inception)    (None, 7, 7, 832)            1043456   ['max-pool-4[0][0]']          \n",
      "                                                                                                  \n",
      " inception-5b (Inception)    (None, 7, 7, 1024)           1444080   ['inception-5a[0][0]']        \n",
      "                                                                                                  \n",
      " avg-pool (AveragePooling2D  (None, 1, 1, 1024)           0         ['inception-5b[0][0]']        \n",
      " )                                                                                                \n",
      "                                                                                                  \n",
      " flatten (Flatten)           (None, 1024)                 0         ['avg-pool[0][0]']            \n",
      "                                                                                                  \n",
      " dropout (Dropout)           (None, 1024)                 0         ['flatten[0][0]']             \n",
      "                                                                                                  \n",
      " linear (Dense)              (None, 1000)                 1025000   ['dropout[0][0]']             \n",
      "                                                                                                  \n",
      " AuxiliaryClassifier-1 (Aux  (None, 1000)                 3188840   ['inception-4a[0][0]']        \n",
      " iliaryClassifier)                                                                                \n",
      "                                                                                                  \n",
      " AuxiliaryClassifier-2 (Aux  (None, 1000)                 3190888   ['inception-4d[0][0]']        \n",
      " iliaryClassifier)                                                                                \n",
      "                                                                                                  \n",
      " softmax (Softmax)           (None, 1000)                 0         ['linear[0][0]']              \n",
      "                                                                                                  \n",
      "==================================================================================================\n",
      "Total params: 13374120 (51.02 MB)\n",
      "Trainable params: 13374120 (51.02 MB)\n",
      "Non-trainable params: 0 (0.00 Byte)\n",
      "__________________________________________________________________________________________________\n"
     ]
    }
   ],
   "source": [
    "# 定义Inception 模块类\n",
    "class Inception(Layer,):\n",
    "    def __init__(self, cov1_1,cov_reduce3_3,cov3_3,cov_reduce5_5,cov5_5,pool_proj, **kwargs):#inception类的构造函数\n",
    "        super(Inception, self).__init__(**kwargs)#调用了父类的构造函数，确保正确地初始化 Inception 类的实例。\n",
    "        #创建了一个包含一个卷积层的分支，该卷积层具有 cov1_1 个过滤器（filters），卷积核大小为 1x1，并使用 ReLU 激活函数。\n",
    "        self.branch1 = Conv2D(filters=cov1_1,kernel_size=1,activation='relu') \n",
    "        \n",
    "        #创建了第二个分支，这个分支是一个由两个卷积层组成的序列，第一层具有 cov_reduce3_3 个过滤器，卷积核大小为 1x1，使用 ReLU 激活函数。\n",
    "        #第二层具有 cov3_3 个过滤器，卷积核大小为 3x3，使用 ReLU 激活函数，并采用“same”填充，以保持输入和输出的空间尺寸相同。\n",
    "        self.branch2 = tf.keras.Sequential([\n",
    "            Conv2D(filters=cov_reduce3_3,kernel_size=1,activation='relu'),\n",
    "            Conv2D(filters=cov3_3,kernel_size=3,padding='same',activation='relu')\n",
    "        ])\n",
    "        \n",
    "        #创建了第三个分支，类似于第二个分支，但是卷积核大小为 5x5。\n",
    "        self.branch3 = tf.keras.Sequential([\n",
    "            Conv2D(filters=cov_reduce5_5,kernel_size=1,activation='relu'),\n",
    "            Conv2D(filters=cov5_5,kernel_size=5,padding='same',activation='relu')\n",
    "        ])\n",
    "        \n",
    "        #创建了第四个分支，包含一个最大池化层（池化窗口大小为 3x3，步幅为 1，使用“same”填充），\n",
    "        #后接一个具有 pool_proj 个过滤器的 1x1 卷积层，并使用 ReLU 激活函数。\n",
    "        self.branch4 = tf.keras.Sequential([\n",
    "            MaxPool2D(pool_size=3,strides=1,padding='same'),\n",
    "            Conv2D(filters=pool_proj,kernel_size=1,activation='relu')\n",
    "        ])\n",
    "        \n",
    "    def call(self,inputs):\n",
    "        # 分别通过四个分支处理输入数据\n",
    "        branch1 = self.branch1(inputs)\n",
    "        branch2 = self.branch2(inputs)\n",
    "        branch3 = self.branch3(inputs)\n",
    "        branch4 = self.branch4(inputs)\n",
    "         # 将四个分支的输出连接在一起\n",
    "        outputs = concatenate([branch1,branch2,branch3,branch4])\n",
    "        return outputs\n",
    "        \n",
    "# 定义辅助分类器\n",
    "class AuxiliaryClassifier(Layer,):\n",
    "    def __init__(self, **kwargs):\n",
    "        super(AuxiliaryClassifier, self).__init__(**kwargs)#调用父类（Layer类）的初始化方法\n",
    "        self.avgpool = AvgPool2D(pool_size=5,strides=3)#创建一个平均池化层，池化窗口大小为5x5，步幅为3。\n",
    "        self.conv = Conv2D(filters=128,kernel_size=1,activation='relu')#创建一个卷积层，包含128个滤波器，卷积核大小为1x1，激活函数为ReLU。\n",
    "        self.flatten = Flatten()#创建一个展平层，用于将卷积层的输出展平成一维向量。\n",
    "        self.fc1 = Dense(units=1024,activation=\"relu\")#创建一个全连接层，包含1024个神经元，激活函数为ReLU。\n",
    "        self.dropout = Dropout(rate=0.7)#创建一个Dropout层，用于随机丢弃输入单元，防止过拟合，丢弃率为70%。\n",
    "        self.fc2 = Dense(units=1000,activation=\"softmax\")#创建一个全连接层，包含1000个神经元，激活函数为Softmax，用于输出分类概率。\n",
    "        \n",
    "    def call(self,inputs):\n",
    "        x = self.avgpool(inputs)#对输入数据进行平均池化操作。\n",
    "        x = self.conv(x)#对池化后的数据进行卷积操作。\n",
    "        x = self.flatten(x)#将卷积层输出的多维数据展平成一维向量。\n",
    "        x = self.fc1(x)#对展平后的数据进行全连接操作。\n",
    "        x = self.dropout(x)#对全连接层的输出进行Dropout操作，以减少过拟合。\n",
    "        outputs = self.fc2(x)#最后一层全连接层，输出最终的分类概率。\n",
    "        return outputs     \n",
    "\n",
    "def GoogLeNet(model_name='GoogLeNet',im_height=224,im_width=224,class_num=1000):\n",
    "#     inputs = tf.keras.Input(shape=(im_height,im_width,3),name='Inputs')\n",
    "    inputs = Input(shape=(im_height,im_width,3),name='Inputs')\n",
    "    \n",
    "    # input [224,224,3]  -->  [112,112,64]\n",
    "    x = Conv2D(filters=64,kernel_size=7,strides=2,padding='same',activation='relu',name='convolution-1')(inputs)\n",
    "    # [112,112,64]  -->  [56,56,64]\n",
    "    x = MaxPool2D(pool_size=3,strides=2,padding='same',name='max-pool-1')(x)\n",
    "    # [56,56,64]  -->  [56,56,192]\n",
    "    x = Conv2D(filters=192,kernel_size=3,strides=1,padding='same',activation='relu',name='convolution-2')(x)\n",
    "    # [56,56,192]  -->  [28,28,192]\n",
    "    x = MaxPool2D(pool_size=3,strides=2,padding='same',name='max-pool-2')(x)\n",
    "    # [28,28,192] --> [28, 28, 256]\n",
    "    x = Inception(64,96,128,16,32,32,name='inception-3a')(x)\n",
    "    # [28, 28, 256] --> [28, 28, 480]\n",
    "    x = Inception(128,128,192,32,96,64,name='inception-3b')(x)\n",
    "    # [28, 28, 480] --> [14, 14, 480]\n",
    "    x = MaxPool2D(pool_size=3,strides=2,padding='same',name='max-pool-3')(x)\n",
    "    # [14, 14, 480] --> [14, 14, 512]\n",
    "    x = Inception(192,96,208,16,48,64,name='inception-4a')(x)\n",
    "    # [14, 14, 512] --> [1000]\n",
    "    outputs1 = AuxiliaryClassifier(name='AuxiliaryClassifier-1')(x)\n",
    "    # [14, 14, 512] --> [14, 14, 512]\n",
    "    x = Inception(160,112,224,24,64,64,name='inception-4b')(x)\n",
    "    # [14, 14, 512] --> [14, 14, 512]\n",
    "    x = Inception(128,128,256,24,64,64,name='inception-4c')(x)\n",
    "    # [14, 14, 512] --> [14, 14, 528]\n",
    "    x = Inception(112,144,288,32,64,64,name='inception-4d')(x)\n",
    "    # [14, 14, 528] --> [1000,]\n",
    "    outputs2 = AuxiliaryClassifier(name='AuxiliaryClassifier-2')(x)\n",
    "    # [14, 14, 528] --> [14, 14, 832]\n",
    "    x = Inception(256,160,320,32,128,128,name='inception-4e')(x)\n",
    "    # [14, 14, 832] --> [7, 7, 832]\n",
    "    x = MaxPool2D(pool_size=3,strides=2,padding='same',name='max-pool-4')(x)\n",
    "    # [7, 7, 832] --> [7, 7, 832]\n",
    "    x = Inception(256,160,320,32,128,128,name='inception-5a')(x)\n",
    "    # [7, 7, 832] --> [7, 7, 1024]\n",
    "    x = Inception(384,192,384,48,128,128,name='inception-5b')(x)\n",
    "    # [7, 7, 1024] --> [1, 1, 1024]\n",
    "    x = AvgPool2D(pool_size=7,strides=1,name='avg-pool')(x)\n",
    "    # [1, 1, 1024] --> [1024,]\n",
    "    x = Flatten(name='flatten')(x)\n",
    "    x = Dropout(rate=0.4,name='dropout')(x)\n",
    "    x = Dense(units=1000,name='linear')(x)\n",
    "    outputs = Softmax(name='softmax')(x)\n",
    "    model = tf.keras.models.Model(inputs=inputs,outputs=[outputs1,outputs2,outputs],name='GoogLeNet')\n",
    "    return model\n",
    "model = GoogLeNet()\n",
    "model.summary()"
   ]
  },
  {
   "cell_type": "code",
   "execution_count": 5,
   "id": "e7e2413e",
   "metadata": {},
   "outputs": [],
   "source": [
    "model.compile(optimizer='adam', loss='sparse_categorical_crossentropy', metrics=['accuracy'], run_eagerly=True)"
   ]
  },
  {
   "cell_type": "code",
   "execution_count": 6,
   "id": "094d08d7",
   "metadata": {},
   "outputs": [],
   "source": [
    "#调整输入数据的维度\n",
    "train_images_rgb = np.repeat(train_images, 3, axis=3)  # 复制灰度通道，创建RGB图片\n",
    "test_images_rgb = np.repeat(test_images, 3, axis=3)\n",
    "\n",
    "train_images_resized = tf.image.resize(train_images_rgb, [224, 224])\n",
    "test_images_resized = tf.image.resize(test_images_rgb, [224, 224])"
   ]
  },
  {
   "cell_type": "code",
   "execution_count": 7,
   "id": "fb03d512",
   "metadata": {
    "scrolled": true
   },
   "outputs": [
    {
     "name": "stderr",
     "output_type": "stream",
     "text": [
      "C:\\Users\\HUAWEI\\AppData\\Roaming\\Python\\Python310\\site-packages\\tensorflow\\python\\data\\ops\\structured_function.py:258: UserWarning: Even though the `tf.config.experimental_run_functions_eagerly` option is set, this option does not apply to tf.data functions. To force eager execution of tf.data functions, please use `tf.data.experimental.enable_debug_mode()`.\n",
      "  warnings.warn(\n"
     ]
    },
    {
     "name": "stdout",
     "output_type": "stream",
     "text": [
      "Epoch 1/5\n",
      "1875/1875 [==============================] - 23528s 13s/step - loss: 2.0521 - AuxiliaryClassifier-1_loss: 0.6632 - AuxiliaryClassifier-2_loss: 0.6925 - softmax_loss: 0.6963 - AuxiliaryClassifier-1_accuracy: 0.7610 - AuxiliaryClassifier-2_accuracy: 0.7570 - softmax_accuracy: 0.7520 - val_loss: 1.2270 - val_AuxiliaryClassifier-1_loss: 0.4014 - val_AuxiliaryClassifier-2_loss: 0.3894 - val_softmax_loss: 0.4363 - val_AuxiliaryClassifier-1_accuracy: 0.8519 - val_AuxiliaryClassifier-2_accuracy: 0.8598 - val_softmax_accuracy: 0.8450\n",
      "Epoch 2/5\n",
      "1875/1875 [==============================] - 6507s 3s/step - loss: 1.0628 - AuxiliaryClassifier-1_loss: 0.3585 - AuxiliaryClassifier-2_loss: 0.3561 - softmax_loss: 0.3483 - AuxiliaryClassifier-1_accuracy: 0.8705 - AuxiliaryClassifier-2_accuracy: 0.8705 - softmax_accuracy: 0.8724 - val_loss: 0.9241 - val_AuxiliaryClassifier-1_loss: 0.3035 - val_AuxiliaryClassifier-2_loss: 0.3120 - val_softmax_loss: 0.3086 - val_AuxiliaryClassifier-1_accuracy: 0.8889 - val_AuxiliaryClassifier-2_accuracy: 0.8873 - val_softmax_accuracy: 0.8886\n",
      "Epoch 3/5\n",
      "1875/1875 [==============================] - 6471s 3s/step - loss: 0.8591 - AuxiliaryClassifier-1_loss: 0.2916 - AuxiliaryClassifier-2_loss: 0.2877 - softmax_loss: 0.2798 - AuxiliaryClassifier-1_accuracy: 0.8926 - AuxiliaryClassifier-2_accuracy: 0.8946 - softmax_accuracy: 0.8974 - val_loss: 0.7642 - val_AuxiliaryClassifier-1_loss: 0.2486 - val_AuxiliaryClassifier-2_loss: 0.2550 - val_softmax_loss: 0.2606 - val_AuxiliaryClassifier-1_accuracy: 0.9078 - val_AuxiliaryClassifier-2_accuracy: 0.9070 - val_softmax_accuracy: 0.9031\n",
      "Epoch 4/5\n",
      "1875/1875 [==============================] - 6470s 3s/step - loss: 0.7455 - AuxiliaryClassifier-1_loss: 0.2536 - AuxiliaryClassifier-2_loss: 0.2493 - softmax_loss: 0.2426 - AuxiliaryClassifier-1_accuracy: 0.9087 - AuxiliaryClassifier-2_accuracy: 0.9109 - softmax_accuracy: 0.9119 - val_loss: 0.7836 - val_AuxiliaryClassifier-1_loss: 0.2558 - val_AuxiliaryClassifier-2_loss: 0.2604 - val_softmax_loss: 0.2673 - val_AuxiliaryClassifier-1_accuracy: 0.9045 - val_AuxiliaryClassifier-2_accuracy: 0.9055 - val_softmax_accuracy: 0.9036\n",
      "Epoch 5/5\n",
      "1875/1875 [==============================] - 6494s 3s/step - loss: 0.6767 - AuxiliaryClassifier-1_loss: 0.2303 - AuxiliaryClassifier-2_loss: 0.2270 - softmax_loss: 0.2194 - AuxiliaryClassifier-1_accuracy: 0.9177 - AuxiliaryClassifier-2_accuracy: 0.9184 - softmax_accuracy: 0.9206 - val_loss: 0.7130 - val_AuxiliaryClassifier-1_loss: 0.2389 - val_AuxiliaryClassifier-2_loss: 0.2355 - val_softmax_loss: 0.2385 - val_AuxiliaryClassifier-1_accuracy: 0.9120 - val_AuxiliaryClassifier-2_accuracy: 0.9150 - val_softmax_accuracy: 0.9127\n"
     ]
    },
    {
     "data": {
      "text/plain": [
       "<keras.src.callbacks.History at 0x2208000f220>"
      ]
     },
     "execution_count": 7,
     "metadata": {},
     "output_type": "execute_result"
    }
   ],
   "source": [
    "model.fit(train_images_resized, train_labels, epochs=5, validation_data=(test_images_resized, test_labels))"
   ]
  },
  {
   "cell_type": "code",
   "execution_count": 9,
   "id": "2832d5c5",
   "metadata": {},
   "outputs": [
    {
     "name": "stdout",
     "output_type": "stream",
     "text": [
      "313/313 [==============================] - 229s 733ms/step - loss: 0.7130 - AuxiliaryClassifier-1_loss: 0.2389 - AuxiliaryClassifier-2_loss: 0.2355 - softmax_loss: 0.2385 - AuxiliaryClassifier-1_accuracy: 0.9120 - AuxiliaryClassifier-2_accuracy: 0.9150 - softmax_accuracy: 0.9127\n",
      "Test accuracy: 0.23892414569854736\n"
     ]
    }
   ],
   "source": [
    "\n",
    "\n",
    "result = model.evaluate(test_images_resized, test_labels)\n",
    "test_loss = result[0]\n",
    "test_acc = result[1]\n",
    "print(f'Test accuracy: {test_acc}')"
   ]
  },
  {
   "cell_type": "code",
   "execution_count": 1,
   "id": "ddba79af",
   "metadata": {},
   "outputs": [
    {
     "data": {
      "text/plain": [
       "<matplotlib.legend.Legend at 0x2b7c055fb80>"
      ]
     },
     "execution_count": 1,
     "metadata": {},
     "output_type": "execute_result"
    },
    {
     "data": {
      "image/png": "[encoded data removed]",
      "text/plain": [
       "<Figure size 1000x500 with 1 Axes>"
      ]
     },
     "metadata": {},
     "output_type": "display_data"
    }
   ],
   "source": [
    "import matplotlib.pyplot as plt\n",
    "\n",
    "# 提取训练和验证集上的loss和accuracy\n",
    "train_loss = [2.0521, 1.0628, 0.8591, 0.7455, 0.6767]\n",
    "train_accuracy = [0.7520, 0.8724, 0.8974, 0.9119, 0.9206]\n",
    "\n",
    "val_loss = [1.2270, 0.9241, 0.7642, 0.7836, 0.7130]\n",
    "val_accuracy = [0.8450, 0.8886, 0.9031, 0.9036, 0.9127]\n",
    "\n",
    "# 绘制loss曲线\n",
    "plt.figure(figsize=(10, 5))\n",
    "plt.subplot(1, 2, 1)\n",
    "plt.plot(train_loss, label='Train Loss')\n",
    "plt.plot(train_accuracy, label='Train Accuracy')\n",
    "plt.plot(val_loss, label='Validation Loss')\n",
    "plt.plot(val_accuracy, label='Validation Accuracy')\n",
    "plt.xlabel('Epoch')\n",
    "plt.ylabel('Loss')\n",
    "plt.title('Training and Validation Loss')\n",
    "plt.legend()"
   ]
  },
  {
   "cell_type": "code",
   "execution_count": null,
   "id": "bfb8949d",
   "metadata": {},
   "outputs": [],
   "source": []
  }
 ],
 "metadata": {
  "kernelspec": {
   "display_name": "Python 3 (ipykernel)",
   "language": "python",
   "name": "python3"
  },
  "language_info": {
   "codemirror_mode": {
    "name": "ipython",
    "version": 3
   },
   "file_extension": ".py",
   "mimetype": "text/x-python",
   "name": "python",
   "nbconvert_exporter": "python",
   "pygments_lexer": "ipython3",
   "version": "3.10.9"
  }
 },
 "nbformat": 4,
 "nbformat_minor": 5
}
